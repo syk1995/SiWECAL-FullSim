{
 "cells": [
  {
   "cell_type": "code",
   "execution_count": null,
   "id": "184d2617-db3f-4f4f-9549-42f0ab420049",
   "metadata": {},
   "outputs": [],
   "source": [
    "import ROOT"
   ]
  },
  {
   "cell_type": "code",
   "execution_count": null,
   "id": "e646dfd5-9466-4ac0-a35a-0b69a47c93ee",
   "metadata": {},
   "outputs": [],
   "source": [
    "%jsroot on"
   ]
  },
  {
   "cell_type": "code",
   "execution_count": null,
   "id": "69867768-1868-4d97-b35d-4ee1664303ca",
   "metadata": {},
   "outputs": [],
   "source": [
    "ROOT.gStyle.SetPalette(ROOT.kBird)\n",
    "ROOT.gStyle.SetNumberContours(256)\n",
    "ROOT.gStyle.SetMarkerSize(2)\n",
    "#ROOT.gStyle.SetErrorX(0)\n",
    "ROOT.gStyle.SetPaintTextFormat(\".2f\")\n",
    "ROOT.gStyle.SetOptStat(0)\n",
    "ROOT.gStyle.SetPadRightMargin(0.05)\n",
    "#ROOT.gStyle.SetMarkerStyle(ROOT.kPlus)\n",
    "ROOT.gStyle.SetMarkerStyle(ROOT.kDot)"
   ]
  },
  {
   "cell_type": "code",
   "execution_count": null,
   "id": "ea2ba568-de40-45ce-b196-f2aa59fb28cf",
   "metadata": {},
   "outputs": [],
   "source": [
    "plotDir = \"comp-plots\""
   ]
  },
  {
   "cell_type": "code",
   "execution_count": null,
   "id": "ef41412a-73a7-4d60-b1b3-beeab00afc2f",
   "metadata": {
    "tags": []
   },
   "outputs": [],
   "source": [
    "inputdir = \"../outputs/\"\n",
    "#d = ROOT.RDataFrame(\"pfos\", (f\"{inputdir}/ZH_eLpR_500k_bb.root\", f\"{inputdir}/ZH_eRpL_500k_bb.root\"))\n",
    "d = ROOT.RDataFrame(\"pfos\", f\"{inputdir}/ZH_eLpR_test_bb.root\")\n",
    "print([n for n in d.GetColumnNames()])"
   ]
  },
  {
   "cell_type": "code",
   "execution_count": null,
   "id": "a0f3b005-b0fa-4541-b036-2f47b9f9de28",
   "metadata": {},
   "outputs": [],
   "source": [
    "d = (d\n",
    "     .Define(\"shape0_over_p\", \"shape0 / seenP\")\n",
    "     .Define(\"ecal_over_p\", \"seenEcalDep / seenP\") # just looks like ecal_share\n",
    "     .Define(\"ecalmp_over_ecalpp\", \"(seenEcalDep - seenP) / (seenEcalDep + seenP)\")\n",
    "    )"
   ]
  },
  {
   "cell_type": "code",
   "execution_count": null,
   "id": "301efa06-7cb8-4c8c-9486-5e27c812e672",
   "metadata": {},
   "outputs": [],
   "source": [
    "used_vars = [\"e_over_p\", \"ecal_share\", \"seenEcalDep\", \"seenYokeDep\",            \n",
    "             \"cluEllipsoid_r1\", \"cluEllipsoid_r2\", \"cluEllipsoid_r3\", \"cluEllipsoid_r_ave\", \"cluEllipsoid_density\",\n",
    "             \"cluEllipsoid_eccentricity_T\", \"cluEllipsoid_eccentricity_L\",\n",
    "             \"dEdxDist_e\"]\n",
    "used_vars += [f\"shape{i}\" for i in range(24)]\n",
    "#used_vars += [\"shape8\", \"shape21\", \"shape19\", \"shape0\", \"shape1\"]\n",
    "used_vars += [\"ecalmp_over_ecalpp\"]"
   ]
  },
  {
   "cell_type": "code",
   "execution_count": null,
   "id": "f93bfdf0-5ee3-48ff-8414-364d778445eb",
   "metadata": {},
   "outputs": [],
   "source": [
    "v_map = {\n",
    "    \"shape0\": \"npoints\",\n",
    "    \"shape1\": \"sum_wgt\",\n",
    "    \"shape4\": \"chi2\",\n",
    "    \"shape7\": \"absorption_Length\",\n",
    "    \"shape8\": \"showerMax_electron\",\n",
    "    \"shape10\": \"Rm\",\n",
    "    \"shape17\": \"max_Ed_hit\",\n",
    "    \"shape19\": \"xt90\",\n",
    "    \"shape20\": \"xl20\",\n",
    "    \"shape21\": \"depth_of_cluster\",\n",
    "    \"shape22\": \"meanOf_hitradius\",\n",
    "    \"shape23\": \"rmsOf_hitradius\",\n",
    "}"
   ]
  },
  {
   "cell_type": "code",
   "execution_count": null,
   "id": "518caa8f-98ea-4a38-884e-dc4d77f47749",
   "metadata": {},
   "outputs": [],
   "source": [
    "# for v in used_vars:\n",
    "#     d = d.Filter(f\"std::isfinite({v})\", f\"test_{v}\")"
   ]
  },
  {
   "cell_type": "code",
   "execution_count": null,
   "id": "5a602f2d-e7e1-45ff-b6bb-d42e2093362f",
   "metadata": {},
   "outputs": [],
   "source": [
    "# d.Report().Print()"
   ]
  },
  {
   "cell_type": "code",
   "execution_count": null,
   "id": "c273606a-8678-4863-b6b1-9a1c4ab7ad62",
   "metadata": {},
   "outputs": [],
   "source": [
    "d_e = d.Filter(\"truePDG == 11\")\n",
    "d_mu = d.Filter(\"truePDG == 13\")\n",
    "d_had = d.Filter(\"truePDG == 211 || truePDG == 321 || truePDG == 2212\")"
   ]
  },
  {
   "cell_type": "code",
   "execution_count": null,
   "id": "eca1eb69-3ff5-4327-b83f-268fb7fad7e1",
   "metadata": {},
   "outputs": [],
   "source": [
    "used_vars"
   ]
  },
  {
   "cell_type": "code",
   "execution_count": null,
   "id": "665e46cf-ff7d-488d-99d7-c26c05451e5a",
   "metadata": {},
   "outputs": [],
   "source": [
    "h_e = {}\n",
    "h_mu = {}\n",
    "h_had = {}\n",
    "\n",
    "nbins = 10 #50\n",
    "lbin = 0\n",
    "hbin = 10 # 25\n",
    "\n",
    "for v in used_vars:\n",
    "    h_e[v] = d_e.Profile1D((\"\", f\";seenP;{v}\", nbins, lbin, hbin, \"S\"), \"seenP\", v)\n",
    "    h_mu[v] = d_mu.Profile1D((\"\", f\";seenP;{v}\", nbins, lbin, hbin, \"S\"), \"seenP\", v)\n",
    "    h_had[v] = d_had.Profile1D((\"\", f\";seenP;{v}\", nbins, lbin, hbin, \"S\"), \"seenP\", v)"
   ]
  },
  {
   "cell_type": "code",
   "execution_count": null,
   "id": "5417096f-72d0-4c26-948e-8170b6dc6a0b",
   "metadata": {},
   "outputs": [],
   "source": [
    "c = {}\n",
    "s = {}\n",
    "m = {}\n",
    "p_e = {}\n",
    "p_mu = {}\n",
    "p_had = {}\n",
    "l = {}\n",
    "g_e = {}\n",
    "g_mu = {}\n",
    "g_had = {}\n",
    "for var in used_vars:\n",
    "    c[var] = ROOT.TCanvas()\n",
    "    #s[var] = ROOT.THStack()\n",
    "    m[var] = ROOT.TMultiGraph()\n",
    "    p_e[var] = h_e[var].ProjectionX()\n",
    "    p_e[var].SetFillColorAlpha(ROOT.kBlue, 0.33)\n",
    "    p_e[var].SetLineColor(ROOT.kBlue)\n",
    "    p_e[var].SetMarkerColor(ROOT.kBlue)\n",
    "    #s[var].Add(p_e[var])\n",
    "    g_e[var] = ROOT.TGraphErrors(p_e[var])\n",
    "    m[var].Add(g_e[var])\n",
    "\n",
    "    p_mu[var] = h_mu[var].ProjectionX()\n",
    "    p_mu[var].SetFillColorAlpha(ROOT.kRed, 0.33)\n",
    "    p_mu[var].SetLineColor(ROOT.kRed)\n",
    "    p_mu[var].SetMarkerColor(ROOT.kRed)\n",
    "    #s[var].Add(p_mu[var])\n",
    "    g_mu[var] = ROOT.TGraphErrors(p_mu[var])\n",
    "    m[var].Add(g_mu[var])\n",
    "\n",
    "    p_had[var] = h_had[var].ProjectionX()\n",
    "    p_had[var].SetFillColorAlpha(ROOT.kBlack, 0.33)\n",
    "    p_had[var].SetLineColor(ROOT.kBlack)\n",
    "    p_had[var].SetMarkerColor(ROOT.kBlack)\n",
    "    #s[var].Add(p_had[var])\n",
    "    g_had[var] = ROOT.TGraphErrors(p_had[var])\n",
    "    m[var].Add(g_had[var])\n",
    "\n",
    "    m[var].Draw(\"al3\")\n",
    "    \n",
    "    #s[var].Draw(\"nostack e5\")\n",
    "   # s[var].Draw(\"nostack same lclusterEnergy\")\n",
    "\n",
    "    #s.SetTitle(\";Momentum [GeV]; #frac{(dE/dx)_{meas.} - (dE/dx)_{e}}{#sigma_{dE/dx}}\")\n",
    "    #s[var].SetTitle(f\";Momentum [GeV];{var}\")\n",
    "    v_name = v_map[var] if var in v_map else var\n",
    "    m[var].SetTitle(f\";Momentum [GeV];{v_name}\")\n",
    "    l[var] = ROOT.TLegend(0.5, 0.2, 0.8, 0.45)\n",
    "    l[var].AddEntry(p_e[var], \"electrons (stddev)\")\n",
    "    l[var].AddEntry(p_mu[var], \"muons (stddev)\")\n",
    "    l[var].AddEntry(p_had[var], \"hadrons (stddev)\")\n",
    "    l[var].Draw()\n",
    "    c[var].Draw()\n",
    "    c[var].SaveAs(f\"{plotDir}/{var}.pdf\")\n",
    "\n",
    "#c.SaveAs(\"test.pdf\")"
   ]
  },
  {
   "cell_type": "code",
   "execution_count": null,
   "id": "e639fda7-b8fc-4160-90d9-a38766ef03b7",
   "metadata": {},
   "outputs": [],
   "source": []
  },
  {
   "cell_type": "code",
   "execution_count": null,
   "id": "775c8b78-d7d2-4478-8097-9f4839005bbf",
   "metadata": {},
   "outputs": [],
   "source": []
  }
 ],
 "metadata": {
  "kernelspec": {
   "display_name": "Python 3",
   "language": "python",
   "name": "python3"
  },
  "language_info": {
   "codemirror_mode": {
    "name": "ipython",
    "version": 3
   },
   "file_extension": ".py",
   "mimetype": "text/x-python",
   "name": "python",
   "nbconvert_exporter": "python",
   "pygments_lexer": "ipython3",
   "version": "3.6.8"
  }
 },
 "nbformat": 4,
 "nbformat_minor": 5
}
